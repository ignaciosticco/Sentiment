{
  "nbformat": 4,
  "nbformat_minor": 0,
  "metadata": {
    "colab": {
      "provenance": [],
      "authorship_tag": "ABX9TyMdOMSepX/UF2ouy3G8+sOx",
      "include_colab_link": true
    },
    "kernelspec": {
      "name": "python3",
      "display_name": "Python 3"
    },
    "language_info": {
      "name": "python"
    },
    "widgets": {
      "application/vnd.jupyter.widget-state+json": {
        "c15500173fe0435e833f75e0d2c61f47": {
          "model_module": "@jupyter-widgets/controls",
          "model_name": "HBoxModel",
          "model_module_version": "1.5.0",
          "state": {
            "_dom_classes": [],
            "_model_module": "@jupyter-widgets/controls",
            "_model_module_version": "1.5.0",
            "_model_name": "HBoxModel",
            "_view_count": null,
            "_view_module": "@jupyter-widgets/controls",
            "_view_module_version": "1.5.0",
            "_view_name": "HBoxView",
            "box_style": "",
            "children": [
              "IPY_MODEL_d56a57fcaf19427787a1bbaafeba3741",
              "IPY_MODEL_5e24a1366bc3445684a8d8ee581e2f53",
              "IPY_MODEL_5a422edc87b844e99662c3e75d774ebc"
            ],
            "layout": "IPY_MODEL_9c284e39371a4eb0a5eb11c66f0f0d2c"
          }
        },
        "d56a57fcaf19427787a1bbaafeba3741": {
          "model_module": "@jupyter-widgets/controls",
          "model_name": "HTMLModel",
          "model_module_version": "1.5.0",
          "state": {
            "_dom_classes": [],
            "_model_module": "@jupyter-widgets/controls",
            "_model_module_version": "1.5.0",
            "_model_name": "HTMLModel",
            "_view_count": null,
            "_view_module": "@jupyter-widgets/controls",
            "_view_module_version": "1.5.0",
            "_view_name": "HTMLView",
            "description": "",
            "description_tooltip": null,
            "layout": "IPY_MODEL_d1b0f6caeefd45aab8c5a178704f1106",
            "placeholder": "​",
            "style": "IPY_MODEL_2abe693b548c4322873fffc6600635f8",
            "value": "Downloading: 100%"
          }
        },
        "5e24a1366bc3445684a8d8ee581e2f53": {
          "model_module": "@jupyter-widgets/controls",
          "model_name": "FloatProgressModel",
          "model_module_version": "1.5.0",
          "state": {
            "_dom_classes": [],
            "_model_module": "@jupyter-widgets/controls",
            "_model_module_version": "1.5.0",
            "_model_name": "FloatProgressModel",
            "_view_count": null,
            "_view_module": "@jupyter-widgets/controls",
            "_view_module_version": "1.5.0",
            "_view_name": "ProgressView",
            "bar_style": "success",
            "description": "",
            "description_tooltip": null,
            "layout": "IPY_MODEL_4cf9c35ea2c44a6888bcea921d50c5ac",
            "max": 925,
            "min": 0,
            "orientation": "horizontal",
            "style": "IPY_MODEL_cfde818c419143f8bac636b95dfaa6de",
            "value": 925
          }
        },
        "5a422edc87b844e99662c3e75d774ebc": {
          "model_module": "@jupyter-widgets/controls",
          "model_name": "HTMLModel",
          "model_module_version": "1.5.0",
          "state": {
            "_dom_classes": [],
            "_model_module": "@jupyter-widgets/controls",
            "_model_module_version": "1.5.0",
            "_model_name": "HTMLModel",
            "_view_count": null,
            "_view_module": "@jupyter-widgets/controls",
            "_view_module_version": "1.5.0",
            "_view_name": "HTMLView",
            "description": "",
            "description_tooltip": null,
            "layout": "IPY_MODEL_1606553184354461a30110f88c3008c4",
            "placeholder": "​",
            "style": "IPY_MODEL_ed40169c0efb4b82bcfaf2066ae2eab9",
            "value": " 925/925 [00:00&lt;00:00, 29.0kB/s]"
          }
        },
        "9c284e39371a4eb0a5eb11c66f0f0d2c": {
          "model_module": "@jupyter-widgets/base",
          "model_name": "LayoutModel",
          "model_module_version": "1.2.0",
          "state": {
            "_model_module": "@jupyter-widgets/base",
            "_model_module_version": "1.2.0",
            "_model_name": "LayoutModel",
            "_view_count": null,
            "_view_module": "@jupyter-widgets/base",
            "_view_module_version": "1.2.0",
            "_view_name": "LayoutView",
            "align_content": null,
            "align_items": null,
            "align_self": null,
            "border": null,
            "bottom": null,
            "display": null,
            "flex": null,
            "flex_flow": null,
            "grid_area": null,
            "grid_auto_columns": null,
            "grid_auto_flow": null,
            "grid_auto_rows": null,
            "grid_column": null,
            "grid_gap": null,
            "grid_row": null,
            "grid_template_areas": null,
            "grid_template_columns": null,
            "grid_template_rows": null,
            "height": null,
            "justify_content": null,
            "justify_items": null,
            "left": null,
            "margin": null,
            "max_height": null,
            "max_width": null,
            "min_height": null,
            "min_width": null,
            "object_fit": null,
            "object_position": null,
            "order": null,
            "overflow": null,
            "overflow_x": null,
            "overflow_y": null,
            "padding": null,
            "right": null,
            "top": null,
            "visibility": null,
            "width": null
          }
        },
        "d1b0f6caeefd45aab8c5a178704f1106": {
          "model_module": "@jupyter-widgets/base",
          "model_name": "LayoutModel",
          "model_module_version": "1.2.0",
          "state": {
            "_model_module": "@jupyter-widgets/base",
            "_model_module_version": "1.2.0",
            "_model_name": "LayoutModel",
            "_view_count": null,
            "_view_module": "@jupyter-widgets/base",
            "_view_module_version": "1.2.0",
            "_view_name": "LayoutView",
            "align_content": null,
            "align_items": null,
            "align_self": null,
            "border": null,
            "bottom": null,
            "display": null,
            "flex": null,
            "flex_flow": null,
            "grid_area": null,
            "grid_auto_columns": null,
            "grid_auto_flow": null,
            "grid_auto_rows": null,
            "grid_column": null,
            "grid_gap": null,
            "grid_row": null,
            "grid_template_areas": null,
            "grid_template_columns": null,
            "grid_template_rows": null,
            "height": null,
            "justify_content": null,
            "justify_items": null,
            "left": null,
            "margin": null,
            "max_height": null,
            "max_width": null,
            "min_height": null,
            "min_width": null,
            "object_fit": null,
            "object_position": null,
            "order": null,
            "overflow": null,
            "overflow_x": null,
            "overflow_y": null,
            "padding": null,
            "right": null,
            "top": null,
            "visibility": null,
            "width": null
          }
        },
        "2abe693b548c4322873fffc6600635f8": {
          "model_module": "@jupyter-widgets/controls",
          "model_name": "DescriptionStyleModel",
          "model_module_version": "1.5.0",
          "state": {
            "_model_module": "@jupyter-widgets/controls",
            "_model_module_version": "1.5.0",
            "_model_name": "DescriptionStyleModel",
            "_view_count": null,
            "_view_module": "@jupyter-widgets/base",
            "_view_module_version": "1.2.0",
            "_view_name": "StyleView",
            "description_width": ""
          }
        },
        "4cf9c35ea2c44a6888bcea921d50c5ac": {
          "model_module": "@jupyter-widgets/base",
          "model_name": "LayoutModel",
          "model_module_version": "1.2.0",
          "state": {
            "_model_module": "@jupyter-widgets/base",
            "_model_module_version": "1.2.0",
            "_model_name": "LayoutModel",
            "_view_count": null,
            "_view_module": "@jupyter-widgets/base",
            "_view_module_version": "1.2.0",
            "_view_name": "LayoutView",
            "align_content": null,
            "align_items": null,
            "align_self": null,
            "border": null,
            "bottom": null,
            "display": null,
            "flex": null,
            "flex_flow": null,
            "grid_area": null,
            "grid_auto_columns": null,
            "grid_auto_flow": null,
            "grid_auto_rows": null,
            "grid_column": null,
            "grid_gap": null,
            "grid_row": null,
            "grid_template_areas": null,
            "grid_template_columns": null,
            "grid_template_rows": null,
            "height": null,
            "justify_content": null,
            "justify_items": null,
            "left": null,
            "margin": null,
            "max_height": null,
            "max_width": null,
            "min_height": null,
            "min_width": null,
            "object_fit": null,
            "object_position": null,
            "order": null,
            "overflow": null,
            "overflow_x": null,
            "overflow_y": null,
            "padding": null,
            "right": null,
            "top": null,
            "visibility": null,
            "width": null
          }
        },
        "cfde818c419143f8bac636b95dfaa6de": {
          "model_module": "@jupyter-widgets/controls",
          "model_name": "ProgressStyleModel",
          "model_module_version": "1.5.0",
          "state": {
            "_model_module": "@jupyter-widgets/controls",
            "_model_module_version": "1.5.0",
            "_model_name": "ProgressStyleModel",
            "_view_count": null,
            "_view_module": "@jupyter-widgets/base",
            "_view_module_version": "1.2.0",
            "_view_name": "StyleView",
            "bar_color": null,
            "description_width": ""
          }
        },
        "1606553184354461a30110f88c3008c4": {
          "model_module": "@jupyter-widgets/base",
          "model_name": "LayoutModel",
          "model_module_version": "1.2.0",
          "state": {
            "_model_module": "@jupyter-widgets/base",
            "_model_module_version": "1.2.0",
            "_model_name": "LayoutModel",
            "_view_count": null,
            "_view_module": "@jupyter-widgets/base",
            "_view_module_version": "1.2.0",
            "_view_name": "LayoutView",
            "align_content": null,
            "align_items": null,
            "align_self": null,
            "border": null,
            "bottom": null,
            "display": null,
            "flex": null,
            "flex_flow": null,
            "grid_area": null,
            "grid_auto_columns": null,
            "grid_auto_flow": null,
            "grid_auto_rows": null,
            "grid_column": null,
            "grid_gap": null,
            "grid_row": null,
            "grid_template_areas": null,
            "grid_template_columns": null,
            "grid_template_rows": null,
            "height": null,
            "justify_content": null,
            "justify_items": null,
            "left": null,
            "margin": null,
            "max_height": null,
            "max_width": null,
            "min_height": null,
            "min_width": null,
            "object_fit": null,
            "object_position": null,
            "order": null,
            "overflow": null,
            "overflow_x": null,
            "overflow_y": null,
            "padding": null,
            "right": null,
            "top": null,
            "visibility": null,
            "width": null
          }
        },
        "ed40169c0efb4b82bcfaf2066ae2eab9": {
          "model_module": "@jupyter-widgets/controls",
          "model_name": "DescriptionStyleModel",
          "model_module_version": "1.5.0",
          "state": {
            "_model_module": "@jupyter-widgets/controls",
            "_model_module_version": "1.5.0",
            "_model_name": "DescriptionStyleModel",
            "_view_count": null,
            "_view_module": "@jupyter-widgets/base",
            "_view_module_version": "1.2.0",
            "_view_name": "StyleView",
            "description_width": ""
          }
        },
        "8454d1d979ec4fe5a916a2fcbcc493de": {
          "model_module": "@jupyter-widgets/controls",
          "model_name": "HBoxModel",
          "model_module_version": "1.5.0",
          "state": {
            "_dom_classes": [],
            "_model_module": "@jupyter-widgets/controls",
            "_model_module_version": "1.5.0",
            "_model_name": "HBoxModel",
            "_view_count": null,
            "_view_module": "@jupyter-widgets/controls",
            "_view_module_version": "1.5.0",
            "_view_name": "HBoxView",
            "box_style": "",
            "children": [
              "IPY_MODEL_9d4e3af4b134417d8e2101216015c5b2",
              "IPY_MODEL_41b473c334c744708b4339c53a3fde63",
              "IPY_MODEL_487538d101714bf49af0ac3eb7950895"
            ],
            "layout": "IPY_MODEL_5ec528aecf1a4908bc3977303bc67710"
          }
        },
        "9d4e3af4b134417d8e2101216015c5b2": {
          "model_module": "@jupyter-widgets/controls",
          "model_name": "HTMLModel",
          "model_module_version": "1.5.0",
          "state": {
            "_dom_classes": [],
            "_model_module": "@jupyter-widgets/controls",
            "_model_module_version": "1.5.0",
            "_model_name": "HTMLModel",
            "_view_count": null,
            "_view_module": "@jupyter-widgets/controls",
            "_view_module_version": "1.5.0",
            "_view_name": "HTMLView",
            "description": "",
            "description_tooltip": null,
            "layout": "IPY_MODEL_bf8d1246f0b34ae484de2d1193fbc1bb",
            "placeholder": "​",
            "style": "IPY_MODEL_9fb1eeeb77b84685973582038b2e626e",
            "value": "Downloading: 100%"
          }
        },
        "41b473c334c744708b4339c53a3fde63": {
          "model_module": "@jupyter-widgets/controls",
          "model_name": "FloatProgressModel",
          "model_module_version": "1.5.0",
          "state": {
            "_dom_classes": [],
            "_model_module": "@jupyter-widgets/controls",
            "_model_module_version": "1.5.0",
            "_model_name": "FloatProgressModel",
            "_view_count": null,
            "_view_module": "@jupyter-widgets/controls",
            "_view_module_version": "1.5.0",
            "_view_name": "ProgressView",
            "bar_style": "success",
            "description": "",
            "description_tooltip": null,
            "layout": "IPY_MODEL_42067cdf661a4e4186f0bcf0c57788e5",
            "max": 435246509,
            "min": 0,
            "orientation": "horizontal",
            "style": "IPY_MODEL_1554e1cd4f134fdb997ce64fe2e5dab7",
            "value": 435246509
          }
        },
        "487538d101714bf49af0ac3eb7950895": {
          "model_module": "@jupyter-widgets/controls",
          "model_name": "HTMLModel",
          "model_module_version": "1.5.0",
          "state": {
            "_dom_classes": [],
            "_model_module": "@jupyter-widgets/controls",
            "_model_module_version": "1.5.0",
            "_model_name": "HTMLModel",
            "_view_count": null,
            "_view_module": "@jupyter-widgets/controls",
            "_view_module_version": "1.5.0",
            "_view_name": "HTMLView",
            "description": "",
            "description_tooltip": null,
            "layout": "IPY_MODEL_dec272e7e7454e4d9131a12796aa70b6",
            "placeholder": "​",
            "style": "IPY_MODEL_b61326f9fbb74a65aa93ffd769bdafe4",
            "value": " 435M/435M [00:08&lt;00:00, 56.1MB/s]"
          }
        },
        "5ec528aecf1a4908bc3977303bc67710": {
          "model_module": "@jupyter-widgets/base",
          "model_name": "LayoutModel",
          "model_module_version": "1.2.0",
          "state": {
            "_model_module": "@jupyter-widgets/base",
            "_model_module_version": "1.2.0",
            "_model_name": "LayoutModel",
            "_view_count": null,
            "_view_module": "@jupyter-widgets/base",
            "_view_module_version": "1.2.0",
            "_view_name": "LayoutView",
            "align_content": null,
            "align_items": null,
            "align_self": null,
            "border": null,
            "bottom": null,
            "display": null,
            "flex": null,
            "flex_flow": null,
            "grid_area": null,
            "grid_auto_columns": null,
            "grid_auto_flow": null,
            "grid_auto_rows": null,
            "grid_column": null,
            "grid_gap": null,
            "grid_row": null,
            "grid_template_areas": null,
            "grid_template_columns": null,
            "grid_template_rows": null,
            "height": null,
            "justify_content": null,
            "justify_items": null,
            "left": null,
            "margin": null,
            "max_height": null,
            "max_width": null,
            "min_height": null,
            "min_width": null,
            "object_fit": null,
            "object_position": null,
            "order": null,
            "overflow": null,
            "overflow_x": null,
            "overflow_y": null,
            "padding": null,
            "right": null,
            "top": null,
            "visibility": null,
            "width": null
          }
        },
        "bf8d1246f0b34ae484de2d1193fbc1bb": {
          "model_module": "@jupyter-widgets/base",
          "model_name": "LayoutModel",
          "model_module_version": "1.2.0",
          "state": {
            "_model_module": "@jupyter-widgets/base",
            "_model_module_version": "1.2.0",
            "_model_name": "LayoutModel",
            "_view_count": null,
            "_view_module": "@jupyter-widgets/base",
            "_view_module_version": "1.2.0",
            "_view_name": "LayoutView",
            "align_content": null,
            "align_items": null,
            "align_self": null,
            "border": null,
            "bottom": null,
            "display": null,
            "flex": null,
            "flex_flow": null,
            "grid_area": null,
            "grid_auto_columns": null,
            "grid_auto_flow": null,
            "grid_auto_rows": null,
            "grid_column": null,
            "grid_gap": null,
            "grid_row": null,
            "grid_template_areas": null,
            "grid_template_columns": null,
            "grid_template_rows": null,
            "height": null,
            "justify_content": null,
            "justify_items": null,
            "left": null,
            "margin": null,
            "max_height": null,
            "max_width": null,
            "min_height": null,
            "min_width": null,
            "object_fit": null,
            "object_position": null,
            "order": null,
            "overflow": null,
            "overflow_x": null,
            "overflow_y": null,
            "padding": null,
            "right": null,
            "top": null,
            "visibility": null,
            "width": null
          }
        },
        "9fb1eeeb77b84685973582038b2e626e": {
          "model_module": "@jupyter-widgets/controls",
          "model_name": "DescriptionStyleModel",
          "model_module_version": "1.5.0",
          "state": {
            "_model_module": "@jupyter-widgets/controls",
            "_model_module_version": "1.5.0",
            "_model_name": "DescriptionStyleModel",
            "_view_count": null,
            "_view_module": "@jupyter-widgets/base",
            "_view_module_version": "1.2.0",
            "_view_name": "StyleView",
            "description_width": ""
          }
        },
        "42067cdf661a4e4186f0bcf0c57788e5": {
          "model_module": "@jupyter-widgets/base",
          "model_name": "LayoutModel",
          "model_module_version": "1.2.0",
          "state": {
            "_model_module": "@jupyter-widgets/base",
            "_model_module_version": "1.2.0",
            "_model_name": "LayoutModel",
            "_view_count": null,
            "_view_module": "@jupyter-widgets/base",
            "_view_module_version": "1.2.0",
            "_view_name": "LayoutView",
            "align_content": null,
            "align_items": null,
            "align_self": null,
            "border": null,
            "bottom": null,
            "display": null,
            "flex": null,
            "flex_flow": null,
            "grid_area": null,
            "grid_auto_columns": null,
            "grid_auto_flow": null,
            "grid_auto_rows": null,
            "grid_column": null,
            "grid_gap": null,
            "grid_row": null,
            "grid_template_areas": null,
            "grid_template_columns": null,
            "grid_template_rows": null,
            "height": null,
            "justify_content": null,
            "justify_items": null,
            "left": null,
            "margin": null,
            "max_height": null,
            "max_width": null,
            "min_height": null,
            "min_width": null,
            "object_fit": null,
            "object_position": null,
            "order": null,
            "overflow": null,
            "overflow_x": null,
            "overflow_y": null,
            "padding": null,
            "right": null,
            "top": null,
            "visibility": null,
            "width": null
          }
        },
        "1554e1cd4f134fdb997ce64fe2e5dab7": {
          "model_module": "@jupyter-widgets/controls",
          "model_name": "ProgressStyleModel",
          "model_module_version": "1.5.0",
          "state": {
            "_model_module": "@jupyter-widgets/controls",
            "_model_module_version": "1.5.0",
            "_model_name": "ProgressStyleModel",
            "_view_count": null,
            "_view_module": "@jupyter-widgets/base",
            "_view_module_version": "1.2.0",
            "_view_name": "StyleView",
            "bar_color": null,
            "description_width": ""
          }
        },
        "dec272e7e7454e4d9131a12796aa70b6": {
          "model_module": "@jupyter-widgets/base",
          "model_name": "LayoutModel",
          "model_module_version": "1.2.0",
          "state": {
            "_model_module": "@jupyter-widgets/base",
            "_model_module_version": "1.2.0",
            "_model_name": "LayoutModel",
            "_view_count": null,
            "_view_module": "@jupyter-widgets/base",
            "_view_module_version": "1.2.0",
            "_view_name": "LayoutView",
            "align_content": null,
            "align_items": null,
            "align_self": null,
            "border": null,
            "bottom": null,
            "display": null,
            "flex": null,
            "flex_flow": null,
            "grid_area": null,
            "grid_auto_columns": null,
            "grid_auto_flow": null,
            "grid_auto_rows": null,
            "grid_column": null,
            "grid_gap": null,
            "grid_row": null,
            "grid_template_areas": null,
            "grid_template_columns": null,
            "grid_template_rows": null,
            "height": null,
            "justify_content": null,
            "justify_items": null,
            "left": null,
            "margin": null,
            "max_height": null,
            "max_width": null,
            "min_height": null,
            "min_width": null,
            "object_fit": null,
            "object_position": null,
            "order": null,
            "overflow": null,
            "overflow_x": null,
            "overflow_y": null,
            "padding": null,
            "right": null,
            "top": null,
            "visibility": null,
            "width": null
          }
        },
        "b61326f9fbb74a65aa93ffd769bdafe4": {
          "model_module": "@jupyter-widgets/controls",
          "model_name": "DescriptionStyleModel",
          "model_module_version": "1.5.0",
          "state": {
            "_model_module": "@jupyter-widgets/controls",
            "_model_module_version": "1.5.0",
            "_model_name": "DescriptionStyleModel",
            "_view_count": null,
            "_view_module": "@jupyter-widgets/base",
            "_view_module_version": "1.2.0",
            "_view_name": "StyleView",
            "description_width": ""
          }
        },
        "3e1b8cb002e4451c9bd4b78151bbfa09": {
          "model_module": "@jupyter-widgets/controls",
          "model_name": "HBoxModel",
          "model_module_version": "1.5.0",
          "state": {
            "_dom_classes": [],
            "_model_module": "@jupyter-widgets/controls",
            "_model_module_version": "1.5.0",
            "_model_name": "HBoxModel",
            "_view_count": null,
            "_view_module": "@jupyter-widgets/controls",
            "_view_module_version": "1.5.0",
            "_view_name": "HBoxView",
            "box_style": "",
            "children": [
              "IPY_MODEL_c10d9c92ff264980a05198e5f0d82ac0",
              "IPY_MODEL_7187bb0cd97b46a189dc5c059b776518",
              "IPY_MODEL_e5b71715b1e043c191da10222ddac98b"
            ],
            "layout": "IPY_MODEL_ea091cc30d7d4f88994bab7bd867f119"
          }
        },
        "c10d9c92ff264980a05198e5f0d82ac0": {
          "model_module": "@jupyter-widgets/controls",
          "model_name": "HTMLModel",
          "model_module_version": "1.5.0",
          "state": {
            "_dom_classes": [],
            "_model_module": "@jupyter-widgets/controls",
            "_model_module_version": "1.5.0",
            "_model_name": "HTMLModel",
            "_view_count": null,
            "_view_module": "@jupyter-widgets/controls",
            "_view_module_version": "1.5.0",
            "_view_name": "HTMLView",
            "description": "",
            "description_tooltip": null,
            "layout": "IPY_MODEL_abffc507409d4e338b8115e4b7952dd6",
            "placeholder": "​",
            "style": "IPY_MODEL_2cf30f0951cb412b838975f8eae3f128",
            "value": "Downloading: 100%"
          }
        },
        "7187bb0cd97b46a189dc5c059b776518": {
          "model_module": "@jupyter-widgets/controls",
          "model_name": "FloatProgressModel",
          "model_module_version": "1.5.0",
          "state": {
            "_dom_classes": [],
            "_model_module": "@jupyter-widgets/controls",
            "_model_module_version": "1.5.0",
            "_model_name": "FloatProgressModel",
            "_view_count": null,
            "_view_module": "@jupyter-widgets/controls",
            "_view_module_version": "1.5.0",
            "_view_name": "ProgressView",
            "bar_style": "success",
            "description": "",
            "description_tooltip": null,
            "layout": "IPY_MODEL_b4e64de02f244745a648b8d202907e60",
            "max": 334,
            "min": 0,
            "orientation": "horizontal",
            "style": "IPY_MODEL_1d640c09dfb94616b14afe8e0bc1d729",
            "value": 334
          }
        },
        "e5b71715b1e043c191da10222ddac98b": {
          "model_module": "@jupyter-widgets/controls",
          "model_name": "HTMLModel",
          "model_module_version": "1.5.0",
          "state": {
            "_dom_classes": [],
            "_model_module": "@jupyter-widgets/controls",
            "_model_module_version": "1.5.0",
            "_model_name": "HTMLModel",
            "_view_count": null,
            "_view_module": "@jupyter-widgets/controls",
            "_view_module_version": "1.5.0",
            "_view_name": "HTMLView",
            "description": "",
            "description_tooltip": null,
            "layout": "IPY_MODEL_4897f768d95d47c087f176c8677557ee",
            "placeholder": "​",
            "style": "IPY_MODEL_8f1cf95836e643f39bb3037890685e3d",
            "value": " 334/334 [00:00&lt;00:00, 4.49kB/s]"
          }
        },
        "ea091cc30d7d4f88994bab7bd867f119": {
          "model_module": "@jupyter-widgets/base",
          "model_name": "LayoutModel",
          "model_module_version": "1.2.0",
          "state": {
            "_model_module": "@jupyter-widgets/base",
            "_model_module_version": "1.2.0",
            "_model_name": "LayoutModel",
            "_view_count": null,
            "_view_module": "@jupyter-widgets/base",
            "_view_module_version": "1.2.0",
            "_view_name": "LayoutView",
            "align_content": null,
            "align_items": null,
            "align_self": null,
            "border": null,
            "bottom": null,
            "display": null,
            "flex": null,
            "flex_flow": null,
            "grid_area": null,
            "grid_auto_columns": null,
            "grid_auto_flow": null,
            "grid_auto_rows": null,
            "grid_column": null,
            "grid_gap": null,
            "grid_row": null,
            "grid_template_areas": null,
            "grid_template_columns": null,
            "grid_template_rows": null,
            "height": null,
            "justify_content": null,
            "justify_items": null,
            "left": null,
            "margin": null,
            "max_height": null,
            "max_width": null,
            "min_height": null,
            "min_width": null,
            "object_fit": null,
            "object_position": null,
            "order": null,
            "overflow": null,
            "overflow_x": null,
            "overflow_y": null,
            "padding": null,
            "right": null,
            "top": null,
            "visibility": null,
            "width": null
          }
        },
        "abffc507409d4e338b8115e4b7952dd6": {
          "model_module": "@jupyter-widgets/base",
          "model_name": "LayoutModel",
          "model_module_version": "1.2.0",
          "state": {
            "_model_module": "@jupyter-widgets/base",
            "_model_module_version": "1.2.0",
            "_model_name": "LayoutModel",
            "_view_count": null,
            "_view_module": "@jupyter-widgets/base",
            "_view_module_version": "1.2.0",
            "_view_name": "LayoutView",
            "align_content": null,
            "align_items": null,
            "align_self": null,
            "border": null,
            "bottom": null,
            "display": null,
            "flex": null,
            "flex_flow": null,
            "grid_area": null,
            "grid_auto_columns": null,
            "grid_auto_flow": null,
            "grid_auto_rows": null,
            "grid_column": null,
            "grid_gap": null,
            "grid_row": null,
            "grid_template_areas": null,
            "grid_template_columns": null,
            "grid_template_rows": null,
            "height": null,
            "justify_content": null,
            "justify_items": null,
            "left": null,
            "margin": null,
            "max_height": null,
            "max_width": null,
            "min_height": null,
            "min_width": null,
            "object_fit": null,
            "object_position": null,
            "order": null,
            "overflow": null,
            "overflow_x": null,
            "overflow_y": null,
            "padding": null,
            "right": null,
            "top": null,
            "visibility": null,
            "width": null
          }
        },
        "2cf30f0951cb412b838975f8eae3f128": {
          "model_module": "@jupyter-widgets/controls",
          "model_name": "DescriptionStyleModel",
          "model_module_version": "1.5.0",
          "state": {
            "_model_module": "@jupyter-widgets/controls",
            "_model_module_version": "1.5.0",
            "_model_name": "DescriptionStyleModel",
            "_view_count": null,
            "_view_module": "@jupyter-widgets/base",
            "_view_module_version": "1.2.0",
            "_view_name": "StyleView",
            "description_width": ""
          }
        },
        "b4e64de02f244745a648b8d202907e60": {
          "model_module": "@jupyter-widgets/base",
          "model_name": "LayoutModel",
          "model_module_version": "1.2.0",
          "state": {
            "_model_module": "@jupyter-widgets/base",
            "_model_module_version": "1.2.0",
            "_model_name": "LayoutModel",
            "_view_count": null,
            "_view_module": "@jupyter-widgets/base",
            "_view_module_version": "1.2.0",
            "_view_name": "LayoutView",
            "align_content": null,
            "align_items": null,
            "align_self": null,
            "border": null,
            "bottom": null,
            "display": null,
            "flex": null,
            "flex_flow": null,
            "grid_area": null,
            "grid_auto_columns": null,
            "grid_auto_flow": null,
            "grid_auto_rows": null,
            "grid_column": null,
            "grid_gap": null,
            "grid_row": null,
            "grid_template_areas": null,
            "grid_template_columns": null,
            "grid_template_rows": null,
            "height": null,
            "justify_content": null,
            "justify_items": null,
            "left": null,
            "margin": null,
            "max_height": null,
            "max_width": null,
            "min_height": null,
            "min_width": null,
            "object_fit": null,
            "object_position": null,
            "order": null,
            "overflow": null,
            "overflow_x": null,
            "overflow_y": null,
            "padding": null,
            "right": null,
            "top": null,
            "visibility": null,
            "width": null
          }
        },
        "1d640c09dfb94616b14afe8e0bc1d729": {
          "model_module": "@jupyter-widgets/controls",
          "model_name": "ProgressStyleModel",
          "model_module_version": "1.5.0",
          "state": {
            "_model_module": "@jupyter-widgets/controls",
            "_model_module_version": "1.5.0",
            "_model_name": "ProgressStyleModel",
            "_view_count": null,
            "_view_module": "@jupyter-widgets/base",
            "_view_module_version": "1.2.0",
            "_view_name": "StyleView",
            "bar_color": null,
            "description_width": ""
          }
        },
        "4897f768d95d47c087f176c8677557ee": {
          "model_module": "@jupyter-widgets/base",
          "model_name": "LayoutModel",
          "model_module_version": "1.2.0",
          "state": {
            "_model_module": "@jupyter-widgets/base",
            "_model_module_version": "1.2.0",
            "_model_name": "LayoutModel",
            "_view_count": null,
            "_view_module": "@jupyter-widgets/base",
            "_view_module_version": "1.2.0",
            "_view_name": "LayoutView",
            "align_content": null,
            "align_items": null,
            "align_self": null,
            "border": null,
            "bottom": null,
            "display": null,
            "flex": null,
            "flex_flow": null,
            "grid_area": null,
            "grid_auto_columns": null,
            "grid_auto_flow": null,
            "grid_auto_rows": null,
            "grid_column": null,
            "grid_gap": null,
            "grid_row": null,
            "grid_template_areas": null,
            "grid_template_columns": null,
            "grid_template_rows": null,
            "height": null,
            "justify_content": null,
            "justify_items": null,
            "left": null,
            "margin": null,
            "max_height": null,
            "max_width": null,
            "min_height": null,
            "min_width": null,
            "object_fit": null,
            "object_position": null,
            "order": null,
            "overflow": null,
            "overflow_x": null,
            "overflow_y": null,
            "padding": null,
            "right": null,
            "top": null,
            "visibility": null,
            "width": null
          }
        },
        "8f1cf95836e643f39bb3037890685e3d": {
          "model_module": "@jupyter-widgets/controls",
          "model_name": "DescriptionStyleModel",
          "model_module_version": "1.5.0",
          "state": {
            "_model_module": "@jupyter-widgets/controls",
            "_model_module_version": "1.5.0",
            "_model_name": "DescriptionStyleModel",
            "_view_count": null,
            "_view_module": "@jupyter-widgets/base",
            "_view_module_version": "1.2.0",
            "_view_name": "StyleView",
            "description_width": ""
          }
        },
        "234777a4aca741ce80852cbe2dd3bd84": {
          "model_module": "@jupyter-widgets/controls",
          "model_name": "HBoxModel",
          "model_module_version": "1.5.0",
          "state": {
            "_dom_classes": [],
            "_model_module": "@jupyter-widgets/controls",
            "_model_module_version": "1.5.0",
            "_model_name": "HBoxModel",
            "_view_count": null,
            "_view_module": "@jupyter-widgets/controls",
            "_view_module_version": "1.5.0",
            "_view_name": "HBoxView",
            "box_style": "",
            "children": [
              "IPY_MODEL_db58115077d24d4d9bd13e2cb687f10f",
              "IPY_MODEL_ddbfcdd5d8d84bf8851e802e00f43966",
              "IPY_MODEL_9690cd9506f749dd9d878299a10485bc"
            ],
            "layout": "IPY_MODEL_88ec10d1eea444a19f4e2ce58af1a555"
          }
        },
        "db58115077d24d4d9bd13e2cb687f10f": {
          "model_module": "@jupyter-widgets/controls",
          "model_name": "HTMLModel",
          "model_module_version": "1.5.0",
          "state": {
            "_dom_classes": [],
            "_model_module": "@jupyter-widgets/controls",
            "_model_module_version": "1.5.0",
            "_model_name": "HTMLModel",
            "_view_count": null,
            "_view_module": "@jupyter-widgets/controls",
            "_view_module_version": "1.5.0",
            "_view_name": "HTMLView",
            "description": "",
            "description_tooltip": null,
            "layout": "IPY_MODEL_0ab8783e6ed34b0c8667ce7e0c2b1276",
            "placeholder": "​",
            "style": "IPY_MODEL_fdb1f7ec3a9447e4a38e93927dabc1c3",
            "value": "Downloading: 100%"
          }
        },
        "ddbfcdd5d8d84bf8851e802e00f43966": {
          "model_module": "@jupyter-widgets/controls",
          "model_name": "FloatProgressModel",
          "model_module_version": "1.5.0",
          "state": {
            "_dom_classes": [],
            "_model_module": "@jupyter-widgets/controls",
            "_model_module_version": "1.5.0",
            "_model_name": "FloatProgressModel",
            "_view_count": null,
            "_view_module": "@jupyter-widgets/controls",
            "_view_module_version": "1.5.0",
            "_view_name": "ProgressView",
            "bar_style": "success",
            "description": "",
            "description_tooltip": null,
            "layout": "IPY_MODEL_e53dd6bf205441e385e5d2f0850028e6",
            "max": 858415,
            "min": 0,
            "orientation": "horizontal",
            "style": "IPY_MODEL_abcb6e16ed5b42c6845eea2d93eaa514",
            "value": 858415
          }
        },
        "9690cd9506f749dd9d878299a10485bc": {
          "model_module": "@jupyter-widgets/controls",
          "model_name": "HTMLModel",
          "model_module_version": "1.5.0",
          "state": {
            "_dom_classes": [],
            "_model_module": "@jupyter-widgets/controls",
            "_model_module_version": "1.5.0",
            "_model_name": "HTMLModel",
            "_view_count": null,
            "_view_module": "@jupyter-widgets/controls",
            "_view_module_version": "1.5.0",
            "_view_name": "HTMLView",
            "description": "",
            "description_tooltip": null,
            "layout": "IPY_MODEL_a7e4eb7f2c844020a2a53fb7070cac8f",
            "placeholder": "​",
            "style": "IPY_MODEL_d9d50a62971c452993f984c22a6353a4",
            "value": " 858k/858k [00:00&lt;00:00, 3.38MB/s]"
          }
        },
        "88ec10d1eea444a19f4e2ce58af1a555": {
          "model_module": "@jupyter-widgets/base",
          "model_name": "LayoutModel",
          "model_module_version": "1.2.0",
          "state": {
            "_model_module": "@jupyter-widgets/base",
            "_model_module_version": "1.2.0",
            "_model_name": "LayoutModel",
            "_view_count": null,
            "_view_module": "@jupyter-widgets/base",
            "_view_module_version": "1.2.0",
            "_view_name": "LayoutView",
            "align_content": null,
            "align_items": null,
            "align_self": null,
            "border": null,
            "bottom": null,
            "display": null,
            "flex": null,
            "flex_flow": null,
            "grid_area": null,
            "grid_auto_columns": null,
            "grid_auto_flow": null,
            "grid_auto_rows": null,
            "grid_column": null,
            "grid_gap": null,
            "grid_row": null,
            "grid_template_areas": null,
            "grid_template_columns": null,
            "grid_template_rows": null,
            "height": null,
            "justify_content": null,
            "justify_items": null,
            "left": null,
            "margin": null,
            "max_height": null,
            "max_width": null,
            "min_height": null,
            "min_width": null,
            "object_fit": null,
            "object_position": null,
            "order": null,
            "overflow": null,
            "overflow_x": null,
            "overflow_y": null,
            "padding": null,
            "right": null,
            "top": null,
            "visibility": null,
            "width": null
          }
        },
        "0ab8783e6ed34b0c8667ce7e0c2b1276": {
          "model_module": "@jupyter-widgets/base",
          "model_name": "LayoutModel",
          "model_module_version": "1.2.0",
          "state": {
            "_model_module": "@jupyter-widgets/base",
            "_model_module_version": "1.2.0",
            "_model_name": "LayoutModel",
            "_view_count": null,
            "_view_module": "@jupyter-widgets/base",
            "_view_module_version": "1.2.0",
            "_view_name": "LayoutView",
            "align_content": null,
            "align_items": null,
            "align_self": null,
            "border": null,
            "bottom": null,
            "display": null,
            "flex": null,
            "flex_flow": null,
            "grid_area": null,
            "grid_auto_columns": null,
            "grid_auto_flow": null,
            "grid_auto_rows": null,
            "grid_column": null,
            "grid_gap": null,
            "grid_row": null,
            "grid_template_areas": null,
            "grid_template_columns": null,
            "grid_template_rows": null,
            "height": null,
            "justify_content": null,
            "justify_items": null,
            "left": null,
            "margin": null,
            "max_height": null,
            "max_width": null,
            "min_height": null,
            "min_width": null,
            "object_fit": null,
            "object_position": null,
            "order": null,
            "overflow": null,
            "overflow_x": null,
            "overflow_y": null,
            "padding": null,
            "right": null,
            "top": null,
            "visibility": null,
            "width": null
          }
        },
        "fdb1f7ec3a9447e4a38e93927dabc1c3": {
          "model_module": "@jupyter-widgets/controls",
          "model_name": "DescriptionStyleModel",
          "model_module_version": "1.5.0",
          "state": {
            "_model_module": "@jupyter-widgets/controls",
            "_model_module_version": "1.5.0",
            "_model_name": "DescriptionStyleModel",
            "_view_count": null,
            "_view_module": "@jupyter-widgets/base",
            "_view_module_version": "1.2.0",
            "_view_name": "StyleView",
            "description_width": ""
          }
        },
        "e53dd6bf205441e385e5d2f0850028e6": {
          "model_module": "@jupyter-widgets/base",
          "model_name": "LayoutModel",
          "model_module_version": "1.2.0",
          "state": {
            "_model_module": "@jupyter-widgets/base",
            "_model_module_version": "1.2.0",
            "_model_name": "LayoutModel",
            "_view_count": null,
            "_view_module": "@jupyter-widgets/base",
            "_view_module_version": "1.2.0",
            "_view_name": "LayoutView",
            "align_content": null,
            "align_items": null,
            "align_self": null,
            "border": null,
            "bottom": null,
            "display": null,
            "flex": null,
            "flex_flow": null,
            "grid_area": null,
            "grid_auto_columns": null,
            "grid_auto_flow": null,
            "grid_auto_rows": null,
            "grid_column": null,
            "grid_gap": null,
            "grid_row": null,
            "grid_template_areas": null,
            "grid_template_columns": null,
            "grid_template_rows": null,
            "height": null,
            "justify_content": null,
            "justify_items": null,
            "left": null,
            "margin": null,
            "max_height": null,
            "max_width": null,
            "min_height": null,
            "min_width": null,
            "object_fit": null,
            "object_position": null,
            "order": null,
            "overflow": null,
            "overflow_x": null,
            "overflow_y": null,
            "padding": null,
            "right": null,
            "top": null,
            "visibility": null,
            "width": null
          }
        },
        "abcb6e16ed5b42c6845eea2d93eaa514": {
          "model_module": "@jupyter-widgets/controls",
          "model_name": "ProgressStyleModel",
          "model_module_version": "1.5.0",
          "state": {
            "_model_module": "@jupyter-widgets/controls",
            "_model_module_version": "1.5.0",
            "_model_name": "ProgressStyleModel",
            "_view_count": null,
            "_view_module": "@jupyter-widgets/base",
            "_view_module_version": "1.2.0",
            "_view_name": "StyleView",
            "bar_color": null,
            "description_width": ""
          }
        },
        "a7e4eb7f2c844020a2a53fb7070cac8f": {
          "model_module": "@jupyter-widgets/base",
          "model_name": "LayoutModel",
          "model_module_version": "1.2.0",
          "state": {
            "_model_module": "@jupyter-widgets/base",
            "_model_module_version": "1.2.0",
            "_model_name": "LayoutModel",
            "_view_count": null,
            "_view_module": "@jupyter-widgets/base",
            "_view_module_version": "1.2.0",
            "_view_name": "LayoutView",
            "align_content": null,
            "align_items": null,
            "align_self": null,
            "border": null,
            "bottom": null,
            "display": null,
            "flex": null,
            "flex_flow": null,
            "grid_area": null,
            "grid_auto_columns": null,
            "grid_auto_flow": null,
            "grid_auto_rows": null,
            "grid_column": null,
            "grid_gap": null,
            "grid_row": null,
            "grid_template_areas": null,
            "grid_template_columns": null,
            "grid_template_rows": null,
            "height": null,
            "justify_content": null,
            "justify_items": null,
            "left": null,
            "margin": null,
            "max_height": null,
            "max_width": null,
            "min_height": null,
            "min_width": null,
            "object_fit": null,
            "object_position": null,
            "order": null,
            "overflow": null,
            "overflow_x": null,
            "overflow_y": null,
            "padding": null,
            "right": null,
            "top": null,
            "visibility": null,
            "width": null
          }
        },
        "d9d50a62971c452993f984c22a6353a4": {
          "model_module": "@jupyter-widgets/controls",
          "model_name": "DescriptionStyleModel",
          "model_module_version": "1.5.0",
          "state": {
            "_model_module": "@jupyter-widgets/controls",
            "_model_module_version": "1.5.0",
            "_model_name": "DescriptionStyleModel",
            "_view_count": null,
            "_view_module": "@jupyter-widgets/base",
            "_view_module_version": "1.2.0",
            "_view_name": "StyleView",
            "description_width": ""
          }
        },
        "3732c1913e594f8e9a3c0a2d539dd568": {
          "model_module": "@jupyter-widgets/controls",
          "model_name": "HBoxModel",
          "model_module_version": "1.5.0",
          "state": {
            "_dom_classes": [],
            "_model_module": "@jupyter-widgets/controls",
            "_model_module_version": "1.5.0",
            "_model_name": "HBoxModel",
            "_view_count": null,
            "_view_module": "@jupyter-widgets/controls",
            "_view_module_version": "1.5.0",
            "_view_name": "HBoxView",
            "box_style": "",
            "children": [
              "IPY_MODEL_3cdedbea87244c43970f81825035418f",
              "IPY_MODEL_3f379e46c522434ab2abe3f75412bdc6",
              "IPY_MODEL_a7cc48bb9d334ba08dbaceb6590f15f0"
            ],
            "layout": "IPY_MODEL_0b062e28eaa1478688f361d2bca04a88"
          }
        },
        "3cdedbea87244c43970f81825035418f": {
          "model_module": "@jupyter-widgets/controls",
          "model_name": "HTMLModel",
          "model_module_version": "1.5.0",
          "state": {
            "_dom_classes": [],
            "_model_module": "@jupyter-widgets/controls",
            "_model_module_version": "1.5.0",
            "_model_name": "HTMLModel",
            "_view_count": null,
            "_view_module": "@jupyter-widgets/controls",
            "_view_module_version": "1.5.0",
            "_view_name": "HTMLView",
            "description": "",
            "description_tooltip": null,
            "layout": "IPY_MODEL_658fef77b6ea493cbda4960a807abfb2",
            "placeholder": "​",
            "style": "IPY_MODEL_c4fbbb3ec1634e9597ea8fe82a4281ca",
            "value": "Downloading: 100%"
          }
        },
        "3f379e46c522434ab2abe3f75412bdc6": {
          "model_module": "@jupyter-widgets/controls",
          "model_name": "FloatProgressModel",
          "model_module_version": "1.5.0",
          "state": {
            "_dom_classes": [],
            "_model_module": "@jupyter-widgets/controls",
            "_model_module_version": "1.5.0",
            "_model_name": "FloatProgressModel",
            "_view_count": null,
            "_view_module": "@jupyter-widgets/controls",
            "_view_module_version": "1.5.0",
            "_view_name": "ProgressView",
            "bar_style": "success",
            "description": "",
            "description_tooltip": null,
            "layout": "IPY_MODEL_d393cde1515a4414b7a0cb0cac6536c0",
            "max": 150,
            "min": 0,
            "orientation": "horizontal",
            "style": "IPY_MODEL_e6b4e694067d4ae58752b671257860b6",
            "value": 150
          }
        },
        "a7cc48bb9d334ba08dbaceb6590f15f0": {
          "model_module": "@jupyter-widgets/controls",
          "model_name": "HTMLModel",
          "model_module_version": "1.5.0",
          "state": {
            "_dom_classes": [],
            "_model_module": "@jupyter-widgets/controls",
            "_model_module_version": "1.5.0",
            "_model_name": "HTMLModel",
            "_view_count": null,
            "_view_module": "@jupyter-widgets/controls",
            "_view_module_version": "1.5.0",
            "_view_name": "HTMLView",
            "description": "",
            "description_tooltip": null,
            "layout": "IPY_MODEL_f3d401dc5ece4d44b5c6e2d2491b6aa9",
            "placeholder": "​",
            "style": "IPY_MODEL_0323162ad18c448f9da9022f0a8dea98",
            "value": " 150/150 [00:00&lt;00:00, 5.92kB/s]"
          }
        },
        "0b062e28eaa1478688f361d2bca04a88": {
          "model_module": "@jupyter-widgets/base",
          "model_name": "LayoutModel",
          "model_module_version": "1.2.0",
          "state": {
            "_model_module": "@jupyter-widgets/base",
            "_model_module_version": "1.2.0",
            "_model_name": "LayoutModel",
            "_view_count": null,
            "_view_module": "@jupyter-widgets/base",
            "_view_module_version": "1.2.0",
            "_view_name": "LayoutView",
            "align_content": null,
            "align_items": null,
            "align_self": null,
            "border": null,
            "bottom": null,
            "display": null,
            "flex": null,
            "flex_flow": null,
            "grid_area": null,
            "grid_auto_columns": null,
            "grid_auto_flow": null,
            "grid_auto_rows": null,
            "grid_column": null,
            "grid_gap": null,
            "grid_row": null,
            "grid_template_areas": null,
            "grid_template_columns": null,
            "grid_template_rows": null,
            "height": null,
            "justify_content": null,
            "justify_items": null,
            "left": null,
            "margin": null,
            "max_height": null,
            "max_width": null,
            "min_height": null,
            "min_width": null,
            "object_fit": null,
            "object_position": null,
            "order": null,
            "overflow": null,
            "overflow_x": null,
            "overflow_y": null,
            "padding": null,
            "right": null,
            "top": null,
            "visibility": null,
            "width": null
          }
        },
        "658fef77b6ea493cbda4960a807abfb2": {
          "model_module": "@jupyter-widgets/base",
          "model_name": "LayoutModel",
          "model_module_version": "1.2.0",
          "state": {
            "_model_module": "@jupyter-widgets/base",
            "_model_module_version": "1.2.0",
            "_model_name": "LayoutModel",
            "_view_count": null,
            "_view_module": "@jupyter-widgets/base",
            "_view_module_version": "1.2.0",
            "_view_name": "LayoutView",
            "align_content": null,
            "align_items": null,
            "align_self": null,
            "border": null,
            "bottom": null,
            "display": null,
            "flex": null,
            "flex_flow": null,
            "grid_area": null,
            "grid_auto_columns": null,
            "grid_auto_flow": null,
            "grid_auto_rows": null,
            "grid_column": null,
            "grid_gap": null,
            "grid_row": null,
            "grid_template_areas": null,
            "grid_template_columns": null,
            "grid_template_rows": null,
            "height": null,
            "justify_content": null,
            "justify_items": null,
            "left": null,
            "margin": null,
            "max_height": null,
            "max_width": null,
            "min_height": null,
            "min_width": null,
            "object_fit": null,
            "object_position": null,
            "order": null,
            "overflow": null,
            "overflow_x": null,
            "overflow_y": null,
            "padding": null,
            "right": null,
            "top": null,
            "visibility": null,
            "width": null
          }
        },
        "c4fbbb3ec1634e9597ea8fe82a4281ca": {
          "model_module": "@jupyter-widgets/controls",
          "model_name": "DescriptionStyleModel",
          "model_module_version": "1.5.0",
          "state": {
            "_model_module": "@jupyter-widgets/controls",
            "_model_module_version": "1.5.0",
            "_model_name": "DescriptionStyleModel",
            "_view_count": null,
            "_view_module": "@jupyter-widgets/base",
            "_view_module_version": "1.2.0",
            "_view_name": "StyleView",
            "description_width": ""
          }
        },
        "d393cde1515a4414b7a0cb0cac6536c0": {
          "model_module": "@jupyter-widgets/base",
          "model_name": "LayoutModel",
          "model_module_version": "1.2.0",
          "state": {
            "_model_module": "@jupyter-widgets/base",
            "_model_module_version": "1.2.0",
            "_model_name": "LayoutModel",
            "_view_count": null,
            "_view_module": "@jupyter-widgets/base",
            "_view_module_version": "1.2.0",
            "_view_name": "LayoutView",
            "align_content": null,
            "align_items": null,
            "align_self": null,
            "border": null,
            "bottom": null,
            "display": null,
            "flex": null,
            "flex_flow": null,
            "grid_area": null,
            "grid_auto_columns": null,
            "grid_auto_flow": null,
            "grid_auto_rows": null,
            "grid_column": null,
            "grid_gap": null,
            "grid_row": null,
            "grid_template_areas": null,
            "grid_template_columns": null,
            "grid_template_rows": null,
            "height": null,
            "justify_content": null,
            "justify_items": null,
            "left": null,
            "margin": null,
            "max_height": null,
            "max_width": null,
            "min_height": null,
            "min_width": null,
            "object_fit": null,
            "object_position": null,
            "order": null,
            "overflow": null,
            "overflow_x": null,
            "overflow_y": null,
            "padding": null,
            "right": null,
            "top": null,
            "visibility": null,
            "width": null
          }
        },
        "e6b4e694067d4ae58752b671257860b6": {
          "model_module": "@jupyter-widgets/controls",
          "model_name": "ProgressStyleModel",
          "model_module_version": "1.5.0",
          "state": {
            "_model_module": "@jupyter-widgets/controls",
            "_model_module_version": "1.5.0",
            "_model_name": "ProgressStyleModel",
            "_view_count": null,
            "_view_module": "@jupyter-widgets/base",
            "_view_module_version": "1.2.0",
            "_view_name": "StyleView",
            "bar_color": null,
            "description_width": ""
          }
        },
        "f3d401dc5ece4d44b5c6e2d2491b6aa9": {
          "model_module": "@jupyter-widgets/base",
          "model_name": "LayoutModel",
          "model_module_version": "1.2.0",
          "state": {
            "_model_module": "@jupyter-widgets/base",
            "_model_module_version": "1.2.0",
            "_model_name": "LayoutModel",
            "_view_count": null,
            "_view_module": "@jupyter-widgets/base",
            "_view_module_version": "1.2.0",
            "_view_name": "LayoutView",
            "align_content": null,
            "align_items": null,
            "align_self": null,
            "border": null,
            "bottom": null,
            "display": null,
            "flex": null,
            "flex_flow": null,
            "grid_area": null,
            "grid_auto_columns": null,
            "grid_auto_flow": null,
            "grid_auto_rows": null,
            "grid_column": null,
            "grid_gap": null,
            "grid_row": null,
            "grid_template_areas": null,
            "grid_template_columns": null,
            "grid_template_rows": null,
            "height": null,
            "justify_content": null,
            "justify_items": null,
            "left": null,
            "margin": null,
            "max_height": null,
            "max_width": null,
            "min_height": null,
            "min_width": null,
            "object_fit": null,
            "object_position": null,
            "order": null,
            "overflow": null,
            "overflow_x": null,
            "overflow_y": null,
            "padding": null,
            "right": null,
            "top": null,
            "visibility": null,
            "width": null
          }
        },
        "0323162ad18c448f9da9022f0a8dea98": {
          "model_module": "@jupyter-widgets/controls",
          "model_name": "DescriptionStyleModel",
          "model_module_version": "1.5.0",
          "state": {
            "_model_module": "@jupyter-widgets/controls",
            "_model_module_version": "1.5.0",
            "_model_name": "DescriptionStyleModel",
            "_view_count": null,
            "_view_module": "@jupyter-widgets/base",
            "_view_module_version": "1.2.0",
            "_view_name": "StyleView",
            "description_width": ""
          }
        }
      }
    }
  },
  "cells": [
    {
      "cell_type": "markdown",
      "metadata": {
        "id": "view-in-github",
        "colab_type": "text"
      },
      "source": [
        "<a href=\"https://colab.research.google.com/github/ignaciosticco/Sentiment/blob/main/Sentiment_analysis1.ipynb\" target=\"_parent\"><img src=\"https://colab.research.google.com/assets/colab-badge.svg\" alt=\"Open In Colab\"/></a>"
      ]
    },
    {
      "cell_type": "markdown",
      "source": [
        "# **Sentiment Analysis**\n",
        "\n",
        "In this notebook I compare 3 sentiment analysis models applied to google maps restaurant reviews. \n"
      ],
      "metadata": {
        "id": "FPymzm5mrRVt"
      }
    },
    {
      "cell_type": "markdown",
      "source": [
        "\n",
        "\n",
        "---\n",
        "\n",
        "# Library import and function definitions\n",
        "\n",
        "\n"
      ],
      "metadata": {
        "id": "1ab1bK589fim"
      }
    },
    {
      "cell_type": "code",
      "execution_count": null,
      "metadata": {
        "id": "wPCjneHtEWwV"
      },
      "outputs": [],
      "source": [
        "!pip install pysentimiento\n",
        "!pip install sentiment_analysis_spanish\n",
        "!pip install classifier\n",
        "!pip install numpy scipy scikit-learn==0.19.2 spanish_sentiment_analysis ipython\n",
        "from   classifier import SentimentClassifier\n",
        "from   pysentimiento import create_analyzer\n",
        "import pandas as pd\n",
        "from   sentiment_analysis_spanish import sentiment_analysis\n",
        "import matplotlib.pyplot as plt\n",
        "import pylab\n",
        "import numpy as np\n",
        "from   google.colab import files\n",
        "import io\n",
        "import scipy\n",
        "from scipy import stats\n",
        "from bisect import bisect\n",
        "import operator\n",
        "import re \n"
      ]
    },
    {
      "cell_type": "code",
      "source": [
        "def translate_to_spanish(df):\n",
        "\t'''\n",
        "\tReturns a new dataframe with the spanish comments. \n",
        "\tIf the comment is in spanish it leaves the comment in spanish (removes the english translation).\n",
        "\tIf the comment is in other language it excludes from the output. \n",
        "\t'''\n",
        "\n",
        "\tdf2 = df[df['lang']=='es']\n",
        "\tfor i in range(0,len(df2)):\n",
        "\n",
        "\t\ttry:\n",
        "\t\t\tdf2['text'].iloc[i] = df2['text'].iloc[i].split('(Original) ')[1] \n",
        "\t\texcept:\n",
        "\t\t\tpass\n",
        "\n",
        "\treturn df2"
      ],
      "metadata": {
        "id": "4op36Qj0N8mY"
      },
      "execution_count": 2,
      "outputs": []
    },
    {
      "cell_type": "code",
      "source": [
        "def plot_histo_norm_discreta(distribucion,title,out_name):\n",
        "     plt.figure()\n",
        "     hist,bins = np.histogram(distribucion,np.arange(1,7,1))\n",
        "     dist_normed = np.divide(hist,float(np.sum(hist)))\n",
        "     plt.bar(bins[:-1], dist_normed, width=0.5,color='orange')\n",
        "     pylab.grid(False)\n",
        "     pylab.xlabel('Stars',fontsize=10)\n",
        "     pylab.ylabel('Ocurrence',fontsize=10)\n",
        "     pylab.title('{}'.format(title),fontsize=10)\n",
        "     pylab.xlim(0.5, 5.5)\n",
        "     pylab.ylim(0, 1)\n",
        "     pylab.xticks(np.arange(1,6,1))\n",
        "     return plt.figure()\n",
        "\n",
        "def plot_histo_normalized(distribucion,title,out_name,binwidth,min_comp,max_comp):\n",
        "\t\n",
        "     plt.figure()\n",
        "     bins = np.array([0.0,0.2,0.4,0.6,0.9,1.1])  \n",
        "     y,binEdges = np.histogram(distribucion,bins=bins)\n",
        "     list_w = np.diff(bins)\n",
        "     sum_y = np.sum(y)\n",
        "     err = np.sqrt(y)/sum_y\n",
        "     y = y/sum_y \n",
        "     bincenters = 0.5*(binEdges[1:]+binEdges[:-1])\n",
        "     return bincenters,y,list_w\n"
      ],
      "metadata": {
        "id": "7YmBlEbBPZ8h"
      },
      "execution_count": 3,
      "outputs": []
    },
    {
      "cell_type": "code",
      "source": [
        "def discretize_sentiment(fl, breakpoints=[.2,.4, .6, .9, 1.1], cat=[1,2, 3, 4, 5]):\n",
        "   '''\n",
        "   Turns a sentiment (between 0 and 1) to a an integer number (between 1 and 5)\n",
        "   '''\n",
        "   return cat[bisect(breakpoints, fl)]\n",
        "\n",
        "def discretize_distribution(continuous_distribution):\n",
        "  sentiment_discretized = []\n",
        "  continuous_distribution = list(continuous_distribution)\n",
        "  for i in range(0,len(continuous_distribution)):\n",
        "    sentiment_discretized+= [discretize_sentiment(continuous_distribution[i])]\n",
        "  return sentiment_discretized"
      ],
      "metadata": {
        "id": "a1-q7WYnHGNr"
      },
      "execution_count": 4,
      "outputs": []
    },
    {
      "cell_type": "code",
      "source": [
        "def performance_metrics(df,index_model):\n",
        "  \n",
        "  TP = len(df.query('score==5 and sentiment_model{}_discretized>=4'.format(index_model)))\n",
        "  TN = len(df.query('score==1 and sentiment_model{}_discretized<=2'.format(index_model)))\n",
        "  FP = len(df.query('score==1 and sentiment_model{}_discretized>=4'.format(index_model)))\n",
        "  FN = len(df.query('score==5 and sentiment_model{}_discretized<=2'.format(index_model)))\n",
        "\n",
        "  precision = TP/(TP+FP)\n",
        "  recall = TP/(TP+FN)\n",
        "  F1 = 2*(precision*recall)/(precision+recall)\n",
        "  TNR = TN/(TN+FP) # True negative rate\n",
        "\n",
        "  return round(precision,2),round(recall,2),round(F1,2), round(TNR,2) #output "
      ],
      "metadata": {
        "id": "wzdUWchBuk7H"
      },
      "execution_count": 26,
      "outputs": []
    },
    {
      "cell_type": "code",
      "source": [
        "# This script identifies the gender given a name [1]\n",
        "\n",
        "def clean_text(txt):\n",
        "    txt = re.sub(\"[^a-záéíóúñüäë]\", \" \", txt.lower())\n",
        "    txt = re.sub(' +',' ', txt)\n",
        "    return txt.strip().split()\n",
        "\n",
        "def df_to_dict(df, key_column, val_column):\n",
        "    \"\"\"convierte dos pandas series en un diccionario\"\"\"\n",
        "    xkey = df[key_column].tolist()\n",
        "    xval = df[val_column].tolist()\n",
        "    return dict(zip(xkey,xval))\n",
        "\n",
        "def get_gender2(names):\n",
        "    names = clean_text(names)\n",
        "    names = [x for x in names if gender_list.get(x,'a') != 'a']\n",
        "    gender ={'m':0, 'f':0, 'a':0}\n",
        "    for i, name in enumerate(names):\n",
        "        g = gender_list.get(name,'a')\n",
        "        gender[g] += 1\n",
        "        gender[g] += 2 if len(names) > 1 and i == 0 and g != 'a' else 0 \n",
        "    gender['a'] = 0 if (gender['f']+gender['m']) > 0 else 1\n",
        "    return max(gender.items(), key=operator.itemgetter(1))[0]\n",
        "\n",
        "if __name__ == '__main__':\n",
        "    path = 'https://www.dropbox.com/s/edm5383iffurv4x/nombres.csv?dl=1'\n",
        "    gender_list = pd.read_csv(path)\n",
        "    gender_list = df_to_dict(gender_list, key_column='nombre', val_column='genero')"
      ],
      "metadata": {
        "id": "RPxnP-Fh8MIu"
      },
      "execution_count": 6,
      "outputs": []
    },
    {
      "cell_type": "markdown",
      "source": [
        "---\n",
        "#Import data \n",
        "\n",
        "\n",
        "\n"
      ],
      "metadata": {
        "id": "tLdQzuY0KrPn"
      }
    },
    {
      "cell_type": "code",
      "source": [
        "uploaded = files.upload()\n",
        "# WARNING: write the name of the uploaded lobstr file\n",
        "filename = 'roux_lobstr19jan23.csv'  \n",
        "df = pd.read_csv(io.BytesIO(uploaded[filename]))"
      ],
      "metadata": {
        "colab": {
          "base_uri": "https://localhost:8080/",
          "height": 73
        },
        "id": "Y8ELa_e7M989",
        "outputId": "61f5cbbd-5122-4807-e224-42872e73301e"
      },
      "execution_count": 7,
      "outputs": [
        {
          "output_type": "display_data",
          "data": {
            "text/plain": [
              "<IPython.core.display.HTML object>"
            ],
            "text/html": [
              "\n",
              "     <input type=\"file\" id=\"files-6f5f7d80-d948-4d86-8996-cde96b8027ca\" name=\"files[]\" multiple disabled\n",
              "        style=\"border:none\" />\n",
              "     <output id=\"result-6f5f7d80-d948-4d86-8996-cde96b8027ca\">\n",
              "      Upload widget is only available when the cell has been executed in the\n",
              "      current browser session. Please rerun this cell to enable.\n",
              "      </output>\n",
              "      <script>// Copyright 2017 Google LLC\n",
              "//\n",
              "// Licensed under the Apache License, Version 2.0 (the \"License\");\n",
              "// you may not use this file except in compliance with the License.\n",
              "// You may obtain a copy of the License at\n",
              "//\n",
              "//      http://www.apache.org/licenses/LICENSE-2.0\n",
              "//\n",
              "// Unless required by applicable law or agreed to in writing, software\n",
              "// distributed under the License is distributed on an \"AS IS\" BASIS,\n",
              "// WITHOUT WARRANTIES OR CONDITIONS OF ANY KIND, either express or implied.\n",
              "// See the License for the specific language governing permissions and\n",
              "// limitations under the License.\n",
              "\n",
              "/**\n",
              " * @fileoverview Helpers for google.colab Python module.\n",
              " */\n",
              "(function(scope) {\n",
              "function span(text, styleAttributes = {}) {\n",
              "  const element = document.createElement('span');\n",
              "  element.textContent = text;\n",
              "  for (const key of Object.keys(styleAttributes)) {\n",
              "    element.style[key] = styleAttributes[key];\n",
              "  }\n",
              "  return element;\n",
              "}\n",
              "\n",
              "// Max number of bytes which will be uploaded at a time.\n",
              "const MAX_PAYLOAD_SIZE = 100 * 1024;\n",
              "\n",
              "function _uploadFiles(inputId, outputId) {\n",
              "  const steps = uploadFilesStep(inputId, outputId);\n",
              "  const outputElement = document.getElementById(outputId);\n",
              "  // Cache steps on the outputElement to make it available for the next call\n",
              "  // to uploadFilesContinue from Python.\n",
              "  outputElement.steps = steps;\n",
              "\n",
              "  return _uploadFilesContinue(outputId);\n",
              "}\n",
              "\n",
              "// This is roughly an async generator (not supported in the browser yet),\n",
              "// where there are multiple asynchronous steps and the Python side is going\n",
              "// to poll for completion of each step.\n",
              "// This uses a Promise to block the python side on completion of each step,\n",
              "// then passes the result of the previous step as the input to the next step.\n",
              "function _uploadFilesContinue(outputId) {\n",
              "  const outputElement = document.getElementById(outputId);\n",
              "  const steps = outputElement.steps;\n",
              "\n",
              "  const next = steps.next(outputElement.lastPromiseValue);\n",
              "  return Promise.resolve(next.value.promise).then((value) => {\n",
              "    // Cache the last promise value to make it available to the next\n",
              "    // step of the generator.\n",
              "    outputElement.lastPromiseValue = value;\n",
              "    return next.value.response;\n",
              "  });\n",
              "}\n",
              "\n",
              "/**\n",
              " * Generator function which is called between each async step of the upload\n",
              " * process.\n",
              " * @param {string} inputId Element ID of the input file picker element.\n",
              " * @param {string} outputId Element ID of the output display.\n",
              " * @return {!Iterable<!Object>} Iterable of next steps.\n",
              " */\n",
              "function* uploadFilesStep(inputId, outputId) {\n",
              "  const inputElement = document.getElementById(inputId);\n",
              "  inputElement.disabled = false;\n",
              "\n",
              "  const outputElement = document.getElementById(outputId);\n",
              "  outputElement.innerHTML = '';\n",
              "\n",
              "  const pickedPromise = new Promise((resolve) => {\n",
              "    inputElement.addEventListener('change', (e) => {\n",
              "      resolve(e.target.files);\n",
              "    });\n",
              "  });\n",
              "\n",
              "  const cancel = document.createElement('button');\n",
              "  inputElement.parentElement.appendChild(cancel);\n",
              "  cancel.textContent = 'Cancel upload';\n",
              "  const cancelPromise = new Promise((resolve) => {\n",
              "    cancel.onclick = () => {\n",
              "      resolve(null);\n",
              "    };\n",
              "  });\n",
              "\n",
              "  // Wait for the user to pick the files.\n",
              "  const files = yield {\n",
              "    promise: Promise.race([pickedPromise, cancelPromise]),\n",
              "    response: {\n",
              "      action: 'starting',\n",
              "    }\n",
              "  };\n",
              "\n",
              "  cancel.remove();\n",
              "\n",
              "  // Disable the input element since further picks are not allowed.\n",
              "  inputElement.disabled = true;\n",
              "\n",
              "  if (!files) {\n",
              "    return {\n",
              "      response: {\n",
              "        action: 'complete',\n",
              "      }\n",
              "    };\n",
              "  }\n",
              "\n",
              "  for (const file of files) {\n",
              "    const li = document.createElement('li');\n",
              "    li.append(span(file.name, {fontWeight: 'bold'}));\n",
              "    li.append(span(\n",
              "        `(${file.type || 'n/a'}) - ${file.size} bytes, ` +\n",
              "        `last modified: ${\n",
              "            file.lastModifiedDate ? file.lastModifiedDate.toLocaleDateString() :\n",
              "                                    'n/a'} - `));\n",
              "    const percent = span('0% done');\n",
              "    li.appendChild(percent);\n",
              "\n",
              "    outputElement.appendChild(li);\n",
              "\n",
              "    const fileDataPromise = new Promise((resolve) => {\n",
              "      const reader = new FileReader();\n",
              "      reader.onload = (e) => {\n",
              "        resolve(e.target.result);\n",
              "      };\n",
              "      reader.readAsArrayBuffer(file);\n",
              "    });\n",
              "    // Wait for the data to be ready.\n",
              "    let fileData = yield {\n",
              "      promise: fileDataPromise,\n",
              "      response: {\n",
              "        action: 'continue',\n",
              "      }\n",
              "    };\n",
              "\n",
              "    // Use a chunked sending to avoid message size limits. See b/62115660.\n",
              "    let position = 0;\n",
              "    do {\n",
              "      const length = Math.min(fileData.byteLength - position, MAX_PAYLOAD_SIZE);\n",
              "      const chunk = new Uint8Array(fileData, position, length);\n",
              "      position += length;\n",
              "\n",
              "      const base64 = btoa(String.fromCharCode.apply(null, chunk));\n",
              "      yield {\n",
              "        response: {\n",
              "          action: 'append',\n",
              "          file: file.name,\n",
              "          data: base64,\n",
              "        },\n",
              "      };\n",
              "\n",
              "      let percentDone = fileData.byteLength === 0 ?\n",
              "          100 :\n",
              "          Math.round((position / fileData.byteLength) * 100);\n",
              "      percent.textContent = `${percentDone}% done`;\n",
              "\n",
              "    } while (position < fileData.byteLength);\n",
              "  }\n",
              "\n",
              "  // All done.\n",
              "  yield {\n",
              "    response: {\n",
              "      action: 'complete',\n",
              "    }\n",
              "  };\n",
              "}\n",
              "\n",
              "scope.google = scope.google || {};\n",
              "scope.google.colab = scope.google.colab || {};\n",
              "scope.google.colab._files = {\n",
              "  _uploadFiles,\n",
              "  _uploadFilesContinue,\n",
              "};\n",
              "})(self);\n",
              "</script> "
            ]
          },
          "metadata": {}
        },
        {
          "output_type": "stream",
          "name": "stdout",
          "text": [
            "Saving roux_lobstr19jan23.csv to roux_lobstr19jan23.csv\n"
          ]
        }
      ]
    },
    {
      "cell_type": "markdown",
      "source": [
        "### Clean data "
      ],
      "metadata": {
        "id": "fjk1NnIEK2cH"
      }
    },
    {
      "cell_type": "code",
      "source": [
        "\tdf_spanish = translate_to_spanish(df)  # Select only spanish reviews"
      ],
      "metadata": {
        "id": "ByIMjcx9dfMW"
      },
      "execution_count": 8,
      "outputs": []
    },
    {
      "cell_type": "markdown",
      "source": [
        "### Setting up the sentiment analysis models "
      ],
      "metadata": {
        "id": "566k07cIOUV0"
      }
    },
    {
      "cell_type": "code",
      "source": [
        "# Model 1 (Neural Network) [2]\n",
        "sentiment = sentiment_analysis.SentimentAnalysisSpanish() \n",
        "# Model 2 (Multinomial Naive Bayes) [3]\n",
        "clf = SentimentClassifier()                               \n",
        "# Model 3 (RNN)  [4] \n",
        "analyzer = create_analyzer(task=\"sentiment\", lang=\"es\")"
      ],
      "metadata": {
        "id": "TlIceiDdeQo3",
        "colab": {
          "base_uri": "https://localhost:8080/",
          "height": 176,
          "referenced_widgets": [
            "c15500173fe0435e833f75e0d2c61f47",
            "d56a57fcaf19427787a1bbaafeba3741",
            "5e24a1366bc3445684a8d8ee581e2f53",
            "5a422edc87b844e99662c3e75d774ebc",
            "9c284e39371a4eb0a5eb11c66f0f0d2c",
            "d1b0f6caeefd45aab8c5a178704f1106",
            "2abe693b548c4322873fffc6600635f8",
            "4cf9c35ea2c44a6888bcea921d50c5ac",
            "cfde818c419143f8bac636b95dfaa6de",
            "1606553184354461a30110f88c3008c4",
            "ed40169c0efb4b82bcfaf2066ae2eab9",
            "8454d1d979ec4fe5a916a2fcbcc493de",
            "9d4e3af4b134417d8e2101216015c5b2",
            "41b473c334c744708b4339c53a3fde63",
            "487538d101714bf49af0ac3eb7950895",
            "5ec528aecf1a4908bc3977303bc67710",
            "bf8d1246f0b34ae484de2d1193fbc1bb",
            "9fb1eeeb77b84685973582038b2e626e",
            "42067cdf661a4e4186f0bcf0c57788e5",
            "1554e1cd4f134fdb997ce64fe2e5dab7",
            "dec272e7e7454e4d9131a12796aa70b6",
            "b61326f9fbb74a65aa93ffd769bdafe4",
            "3e1b8cb002e4451c9bd4b78151bbfa09",
            "c10d9c92ff264980a05198e5f0d82ac0",
            "7187bb0cd97b46a189dc5c059b776518",
            "e5b71715b1e043c191da10222ddac98b",
            "ea091cc30d7d4f88994bab7bd867f119",
            "abffc507409d4e338b8115e4b7952dd6",
            "2cf30f0951cb412b838975f8eae3f128",
            "b4e64de02f244745a648b8d202907e60",
            "1d640c09dfb94616b14afe8e0bc1d729",
            "4897f768d95d47c087f176c8677557ee",
            "8f1cf95836e643f39bb3037890685e3d",
            "234777a4aca741ce80852cbe2dd3bd84",
            "db58115077d24d4d9bd13e2cb687f10f",
            "ddbfcdd5d8d84bf8851e802e00f43966",
            "9690cd9506f749dd9d878299a10485bc",
            "88ec10d1eea444a19f4e2ce58af1a555",
            "0ab8783e6ed34b0c8667ce7e0c2b1276",
            "fdb1f7ec3a9447e4a38e93927dabc1c3",
            "e53dd6bf205441e385e5d2f0850028e6",
            "abcb6e16ed5b42c6845eea2d93eaa514",
            "a7e4eb7f2c844020a2a53fb7070cac8f",
            "d9d50a62971c452993f984c22a6353a4",
            "3732c1913e594f8e9a3c0a2d539dd568",
            "3cdedbea87244c43970f81825035418f",
            "3f379e46c522434ab2abe3f75412bdc6",
            "a7cc48bb9d334ba08dbaceb6590f15f0",
            "0b062e28eaa1478688f361d2bca04a88",
            "658fef77b6ea493cbda4960a807abfb2",
            "c4fbbb3ec1634e9597ea8fe82a4281ca",
            "d393cde1515a4414b7a0cb0cac6536c0",
            "e6b4e694067d4ae58752b671257860b6",
            "f3d401dc5ece4d44b5c6e2d2491b6aa9",
            "0323162ad18c448f9da9022f0a8dea98"
          ]
        },
        "outputId": "6952bac6-feb9-4dbc-dee7-5031a57df889"
      },
      "execution_count": 9,
      "outputs": [
        {
          "output_type": "display_data",
          "data": {
            "text/plain": [
              "Downloading:   0%|          | 0.00/925 [00:00<?, ?B/s]"
            ],
            "application/vnd.jupyter.widget-view+json": {
              "version_major": 2,
              "version_minor": 0,
              "model_id": "c15500173fe0435e833f75e0d2c61f47"
            }
          },
          "metadata": {}
        },
        {
          "output_type": "display_data",
          "data": {
            "text/plain": [
              "Downloading:   0%|          | 0.00/435M [00:00<?, ?B/s]"
            ],
            "application/vnd.jupyter.widget-view+json": {
              "version_major": 2,
              "version_minor": 0,
              "model_id": "8454d1d979ec4fe5a916a2fcbcc493de"
            }
          },
          "metadata": {}
        },
        {
          "output_type": "display_data",
          "data": {
            "text/plain": [
              "Downloading:   0%|          | 0.00/334 [00:00<?, ?B/s]"
            ],
            "application/vnd.jupyter.widget-view+json": {
              "version_major": 2,
              "version_minor": 0,
              "model_id": "3e1b8cb002e4451c9bd4b78151bbfa09"
            }
          },
          "metadata": {}
        },
        {
          "output_type": "display_data",
          "data": {
            "text/plain": [
              "Downloading:   0%|          | 0.00/858k [00:00<?, ?B/s]"
            ],
            "application/vnd.jupyter.widget-view+json": {
              "version_major": 2,
              "version_minor": 0,
              "model_id": "234777a4aca741ce80852cbe2dd3bd84"
            }
          },
          "metadata": {}
        },
        {
          "output_type": "display_data",
          "data": {
            "text/plain": [
              "Downloading:   0%|          | 0.00/150 [00:00<?, ?B/s]"
            ],
            "application/vnd.jupyter.widget-view+json": {
              "version_major": 2,
              "version_minor": 0,
              "model_id": "3732c1913e594f8e9a3c0a2d539dd568"
            }
          },
          "metadata": {}
        }
      ]
    },
    {
      "cell_type": "markdown",
      "source": [
        "### Apply the models (this step may take a while)"
      ],
      "metadata": {
        "id": "_0qRtyxaeCmW"
      }
    },
    {
      "cell_type": "code",
      "source": [
        "sentiment_model1 = []\n",
        "sentiment_model2 = []\n",
        "sentiment_model3 = []\n",
        "\n",
        "for i in range(0,len(df_spanish)):\n",
        "  text_review = df_spanish['text'].iloc[i]\n",
        "  sentiment_model1 += [sentiment.sentiment(text_review)]\n",
        "  sentiment_model2 += [clf.predict(text_review)]\n",
        "  sentiment_model3 += [analyzer.predict(text_review).probas['POS']-analyzer.predict(text_review).probas['NEG']]"
      ],
      "metadata": {
        "id": "kjP_CDDgPtGi"
      },
      "execution_count": 10,
      "outputs": []
    },
    {
      "cell_type": "markdown",
      "source": [
        "### Plot distributions "
      ],
      "metadata": {
        "id": "3tlfERZ5eLY5"
      }
    },
    {
      "cell_type": "code",
      "source": [
        "stars = df_spanish['score'].tolist()\n",
        "\n",
        "hist,bins = np.histogram(stars,np.arange(1,7,1))\n",
        "dist_normed = np.divide(hist,float(np.sum(hist)))\n",
        "\n",
        "bincenters1, y1, list_w1 = plot_histo_normalized(sentiment_model1,'model 1','histo_model1_picaron',0.2,0.0,1)\n",
        "bincenters2, y2, list_w2 = plot_histo_normalized(sentiment_model2,'model 2','histo_model2_picaron',0.2,0.0,1)\n",
        "bincenters3, y3, list_w3 = plot_histo_normalized(sentiment_model3,'model 3','histo_model2_picaron',0.2,0.0,1)\n",
        "\n",
        "fig, ((ax1, ax2), (ax3, ax4)) = plt.subplots(2, 2)\n",
        "fig.set_figheight(15)\n",
        "fig.set_figwidth(15)\n",
        "\n",
        "ax1.bar(bins[:-1], dist_normed, width=0.5,color='#1f77b4')\n",
        "ax2.bar(np.array([0.2,0.4,0.6,0.8,1]), y1, width=0.1,color='#ff7f0e')\n",
        "ax3.bar(np.array([0.2,0.4,0.6,0.8,1]), y2, width=0.1,color='#2ca02c')\n",
        "ax4.bar(np.array([0.2,0.4,0.6,0.8,1]), y3, width=0.1,color='#d62728')\n",
        "\n",
        "ax1.set_ylim([0,1])\n",
        "ax2.set_ylim([0,1])\n",
        "ax3.set_ylim([0,1])\n",
        "ax4.set_ylim([0,1])\n",
        "\n",
        "ax1.set_xlabel('Score',fontsize=18)\n",
        "ax1.set_ylabel('Frequency',fontsize=18)\n",
        "\n",
        "ax2.set_xlabel('Sentiment',fontsize=18)\n",
        "ax2.set_ylabel('Frequency',fontsize=18)\n",
        "ax3.set_xlabel('Sentiment',fontsize=18)\n",
        "ax3.set_ylabel('Frequency',fontsize=18)\n",
        "ax4.set_xlabel('Sentiment',fontsize=18)\n",
        "ax4.set_ylabel('Frequency',fontsize=18)\n",
        "\n",
        "ax1.set_title('Google Stars (Ground Truth)',fontsize=22)\n",
        "ax2.set_title('Model 1 (Neural Network)',fontsize=22)\n",
        "ax3.set_title('Model 2 (Naive Bayes)',fontsize=22)\n",
        "ax4.set_title('Model 3 (RNN)',fontsize=22)"
      ],
      "metadata": {
        "id": "8GG4fTzTWtiE",
        "colab": {
          "base_uri": "https://localhost:8080/",
          "height": 977
        },
        "outputId": "8ddd5c03-1ea9-441c-9821-08675d5ff4eb"
      },
      "execution_count": 11,
      "outputs": [
        {
          "output_type": "execute_result",
          "data": {
            "text/plain": [
              "Text(0.5, 1.0, 'Model 3 (RNN)')"
            ]
          },
          "metadata": {},
          "execution_count": 11
        },
        {
          "output_type": "display_data",
          "data": {
            "text/plain": [
              "<Figure size 432x288 with 0 Axes>"
            ]
          },
          "metadata": {}
        },
        {
          "output_type": "display_data",
          "data": {
            "text/plain": [
              "<Figure size 432x288 with 0 Axes>"
            ]
          },
          "metadata": {}
        },
        {
          "output_type": "display_data",
          "data": {
            "text/plain": [
              "<Figure size 432x288 with 0 Axes>"
            ]
          },
          "metadata": {}
        },
        {
          "output_type": "display_data",
          "data": {
            "text/plain": [
              "<Figure size 1080x1080 with 4 Axes>"
            ],
            "image/png": "[encoded data removed]"
          },
          "metadata": {
            "needs_background": "light"
          }
        }
      ]
    },
    {
      "cell_type": "code",
      "source": [
        "sentiment_model1_discretized = discretize_distribution(sentiment_model1)\n",
        "sentiment_model2_discretized = discretize_distribution(sentiment_model2)\n",
        "sentiment_model3_discretized = discretize_distribution(sentiment_model3)"
      ],
      "metadata": {
        "id": "AXdSWK6grg4b"
      },
      "execution_count": 12,
      "outputs": []
    },
    {
      "cell_type": "markdown",
      "source": [
        "---\n",
        "# Comparing the model performance"
      ],
      "metadata": {
        "id": "EMrybVzmelMr"
      }
    },
    {
      "cell_type": "markdown",
      "source": [
        "## Kolmogorov–Smirnov test [5,6]"
      ],
      "metadata": {
        "id": "duLZWeaDeaUK"
      }
    },
    {
      "cell_type": "code",
      "source": [
        "scipy.stats.ks_2samp(stars, sentiment_model1_discretized)        "
      ],
      "metadata": {
        "colab": {
          "base_uri": "https://localhost:8080/"
        },
        "id": "u8N3wXwCM0aG",
        "outputId": "197c1839-adfd-491f-a2d6-86b6538da82a"
      },
      "execution_count": 13,
      "outputs": [
        {
          "output_type": "execute_result",
          "data": {
            "text/plain": [
              "KstestResult(statistic=0.3551219512195122, pvalue=8.86404232743862e-58)"
            ]
          },
          "metadata": {},
          "execution_count": 13
        }
      ]
    },
    {
      "cell_type": "code",
      "source": [
        "scipy.stats.ks_2samp(stars, sentiment_model2_discretized)"
      ],
      "metadata": {
        "colab": {
          "base_uri": "https://localhost:8080/"
        },
        "id": "S2ckRwTcr6x3",
        "outputId": "f45dcbc3-5fd3-438a-a49a-b1a8068299dd"
      },
      "execution_count": 14,
      "outputs": [
        {
          "output_type": "execute_result",
          "data": {
            "text/plain": [
              "KstestResult(statistic=0.018536585365853658, pvalue=0.9946269250720642)"
            ]
          },
          "metadata": {},
          "execution_count": 14
        }
      ]
    },
    {
      "cell_type": "code",
      "source": [
        "scipy.stats.ks_2samp(stars, sentiment_model3_discretized)"
      ],
      "metadata": {
        "colab": {
          "base_uri": "https://localhost:8080/"
        },
        "id": "FY3IHzoor9qr",
        "outputId": "53c440e4-dff6-4878-9d5c-99caa9be524d"
      },
      "execution_count": 15,
      "outputs": [
        {
          "output_type": "execute_result",
          "data": {
            "text/plain": [
              "KstestResult(statistic=0.1073170731707317, pvalue=1.468468744486813e-05)"
            ]
          },
          "metadata": {},
          "execution_count": 15
        }
      ]
    },
    {
      "cell_type": "code",
      "source": [
        "df_spanish['sentiment_model1_discretized']= sentiment_model1_discretized\n",
        "df_spanish['sentiment_model2_discretized']= sentiment_model2_discretized\n",
        "df_spanish['sentiment_model3_discretized']= sentiment_model3_discretized"
      ],
      "metadata": {
        "id": "ILUQyT7WDt9I"
      },
      "execution_count": 16,
      "outputs": []
    },
    {
      "cell_type": "markdown",
      "source": [
        "## More performance metrics"
      ],
      "metadata": {
        "id": "M3UHxGmlerJr"
      }
    },
    {
      "cell_type": "code",
      "source": [
        "df_compare = pd.DataFrame({'Model1':performance_metrics(df_spanish,1),'Model 2':performance_metrics(df_spanish,2),'Model 3':performance_metrics(df_spanish,3)})\n",
        "df_compare.index = ['Precision', 'Recall', 'F1 score', 'TNR']\n",
        "print(df_compare)"
      ],
      "metadata": {
        "colab": {
          "base_uri": "https://localhost:8080/"
        },
        "id": "9LYRYcjI1LH0",
        "outputId": "e9ff076d-d5fd-4a4d-cbe2-30976c84d5bc"
      },
      "execution_count": 32,
      "outputs": [
        {
          "output_type": "stream",
          "name": "stdout",
          "text": [
            "           Model1  Model 2  Model 3\n",
            "Precision    1.00     0.99     1.00\n",
            "Recall       0.66     1.00     0.94\n",
            "F1 score     0.80     0.99     0.97\n",
            "TNR          1.00     0.75     1.00\n"
          ]
        }
      ]
    },
    {
      "cell_type": "markdown",
      "source": [
        "### Conclusion\n",
        "\n",
        "The Model 2 (multinomial naive bayes) seems to perform best. The KS test indicates that is the only model in which H0 cannot be rejected. (H0= there are no significant differences between the google stars distribution and the sentiment distribution). \n",
        "\n",
        "Moreover, the Model 2 yields the highest F1 score. This result is consistent with different datasets (different restaurants reviews). \n",
        "\n",
        "The Model 1 is the one that performed the worst. It shows a marked bias towards the negative sentiment. "
      ],
      "metadata": {
        "id": "uNZSeqz_fR9-"
      }
    },
    {
      "cell_type": "markdown",
      "source": [
        "---\n",
        "## Examples\n",
        "\n",
        "\n",
        "\n"
      ],
      "metadata": {
        "id": "GCj9GUelew4f"
      }
    },
    {
      "cell_type": "markdown",
      "source": [
        "### Examples of false negatives"
      ],
      "metadata": {
        "id": "hOu6wHRWN9hX"
      }
    },
    {
      "cell_type": "markdown",
      "source": [
        "False negative in Model 2"
      ],
      "metadata": {
        "id": "zQhC6MfEg-Sj"
      }
    },
    {
      "cell_type": "code",
      "source": [
        "df_spanish.query('score==5 and sentiment_model2_discretized<=2').sort_values('sentiment_model2_discretized',ascending=True)['text'].values[1]"
      ],
      "metadata": {
        "colab": {
          "base_uri": "https://localhost:8080/",
          "height": 35
        },
        "id": "EdjJ6x2Ytlr_",
        "outputId": "4e1396ba-5edb-4605-ec1f-66455b34df3d"
      },
      "execution_count": 19,
      "outputs": [
        {
          "output_type": "execute_result",
          "data": {
            "text/plain": [
              "'Que decir excelente todo, no se lo pueden perder!!!!!'"
            ],
            "application/vnd.google.colaboratory.intrinsic+json": {
              "type": "string"
            }
          },
          "metadata": {},
          "execution_count": 19
        }
      ]
    },
    {
      "cell_type": "markdown",
      "source": [
        "### Example of false positive"
      ],
      "metadata": {
        "id": "w1CN1CNTZRd4"
      }
    },
    {
      "cell_type": "code",
      "source": [
        "df_spanish.query('score==1 and sentiment_model2_discretized>=4').sort_values('sentiment_model2_discretized',ascending=False)['text'].values[0]"
      ],
      "metadata": {
        "colab": {
          "base_uri": "https://localhost:8080/",
          "height": 35
        },
        "id": "5GDY8cz3uOK9",
        "outputId": "309ad138-5193-4e54-d864-59a92ddf4d2f"
      },
      "execution_count": 25,
      "outputs": [
        {
          "output_type": "execute_result",
          "data": {
            "text/plain": [
              "'Caroooo para tan poco lugar y mala atencion. Buena comida gourmet'"
            ],
            "application/vnd.google.colaboratory.intrinsic+json": {
              "type": "string"
            }
          },
          "metadata": {},
          "execution_count": 25
        }
      ]
    },
    {
      "cell_type": "markdown",
      "source": [
        "## Conclusion\n",
        "\n",
        "Above we can see some examples of False negatives and false positives. The language employed seems rather informal. That might be the reason of the wrong performance (the models are not capable of detecting informal language)."
      ],
      "metadata": {
        "id": "GQRbzElFNiDs"
      }
    },
    {
      "cell_type": "markdown",
      "source": [
        "\n",
        "\n",
        "---\n",
        "# **Analytics**\n"
      ],
      "metadata": {
        "id": "2lrEym4pLXk4"
      }
    },
    {
      "cell_type": "markdown",
      "source": [
        "## Who is harder as a reviewer : male or female?\n",
        "\n"
      ],
      "metadata": {
        "id": "cfWHiWOBLhRv"
      }
    },
    {
      "cell_type": "markdown",
      "source": [
        "Add gender column to the dataframe"
      ],
      "metadata": {
        "id": "GoQsAA42i20D"
      }
    },
    {
      "cell_type": "code",
      "source": [
        "gender = []\n",
        "for i in range(0,len(df_spanish)):\n",
        "  name = df_spanish['user_name'].iloc[i]\n",
        "  gender += [get_gender2(name)]\n",
        "df_spanish['gender'] = gender"
      ],
      "metadata": {
        "id": "sSKlV_ew8Yh1"
      },
      "execution_count": 22,
      "outputs": []
    },
    {
      "cell_type": "code",
      "source": [
        "mean_female = df_spanish[df_spanish['gender']=='f']['score'].mean()\n",
        "std_female = df_spanish[df_spanish['gender']=='f']['score'].std()\n",
        "mean_male = df_spanish[df_spanish['gender']=='m']['score'].mean()\n",
        "std_male = df_spanish[df_spanish['gender']=='m']['score'].std()\n",
        "\n",
        "print(\"Score\\n\")\n",
        "print(\"Number of females:\",len(df_spanish[df_spanish['gender']=='f']['score']))\n",
        "print(\"Number of males:\",len(df_spanish[df_spanish['gender']=='m']['score']))\n",
        "\n",
        "print(\"Female:\\n\",\"mean=\",round(mean_female,2),\"std=\",round(std_female,2))\n",
        "print(\"Male:\\n\",\"mean=\",round(mean_male,2),\"std=\",round(std_male,2))"
      ],
      "metadata": {
        "colab": {
          "base_uri": "https://localhost:8080/"
        },
        "id": "_m9jz9H1Dy7R",
        "outputId": "c74ae299-b3cb-4193-95cd-229b57c99f40"
      },
      "execution_count": 42,
      "outputs": [
        {
          "output_type": "stream",
          "name": "stdout",
          "text": [
            "Score\n",
            "\n",
            "Number of females: 406\n",
            "Number of males: 551\n",
            "Female:\n",
            " mean= 4.56 std= 0.98\n",
            "Male:\n",
            " mean= 4.62 std= 0.87\n"
          ]
        }
      ]
    },
    {
      "cell_type": "code",
      "source": [
        "df_spanish['sentiment_model2_discretized'] = sentiment_model2_discretized \n",
        "mean_female = df_spanish[df_spanish['gender']=='f']['sentiment_model2_discretized'].mean()\n",
        "std_female = df_spanish[df_spanish['gender']=='f']['sentiment_model2_discretized'].std()\n",
        "mean_male = df_spanish[df_spanish['gender']=='m']['sentiment_model2_discretized'].mean()\n",
        "std_male = df_spanish[df_spanish['gender']=='m']['sentiment_model2_discretized'].std()\n",
        "\n",
        "\n",
        "print(\"Sentiment\\n\")\n",
        "\n",
        "print(\"Female:\\n\",\"mean=\",round(mean_female,2),\"std=\",round(std_female,2))\n",
        "print(\"Male:\\n\",\"mean=\",round(mean_male,2),\"std=\",round(std_male,2))"
      ],
      "metadata": {
        "colab": {
          "base_uri": "https://localhost:8080/"
        },
        "id": "bisBal82nALl",
        "outputId": "f653885e-34fa-4261-ca7c-9dc47a0003bd"
      },
      "execution_count": 44,
      "outputs": [
        {
          "output_type": "stream",
          "name": "stdout",
          "text": [
            "Sentiment\n",
            "\n",
            "Female:\n",
            " mean= 4.6 std= 0.97\n",
            "Male:\n",
            " mean= 4.64 std= 0.79\n"
          ]
        }
      ]
    },
    {
      "cell_type": "markdown",
      "source": [
        "###Two sample t-test [7]"
      ],
      "metadata": {
        "id": "ztSFDnyGj7o6"
      }
    },
    {
      "cell_type": "code",
      "source": [
        "stats.ttest_ind(df_spanish[df_spanish['gender']=='f']['score'], df_spanish[df_spanish['gender']=='m']['score'])"
      ],
      "metadata": {
        "colab": {
          "base_uri": "https://localhost:8080/"
        },
        "id": "P3q74AW5Heo6",
        "outputId": "f8866926-7a04-4937-fec8-370b1b843388"
      },
      "execution_count": 24,
      "outputs": [
        {
          "output_type": "execute_result",
          "data": {
            "text/plain": [
              "Ttest_indResult(statistic=-1.006289318708086, pvalue=0.3145313110124029)"
            ]
          },
          "metadata": {},
          "execution_count": 24
        }
      ]
    },
    {
      "cell_type": "markdown",
      "source": [
        "## Conclusion\n",
        "\n",
        "Although the mean values seem to show that females are harder reviewers, the t-student test indicates that there are no significant differences between males and females regarding the way they evaluate restaurants (given de pvalue, the null hipothesis cannot be rejected). \n",
        "\n",
        "Note 1: The coclusions above mentioned apply in both the score and the sentiment (with model 2). This is consistent with the fact that model 2 captures the escence of the google score.\n",
        "\n",
        "Note 2: these result is consistent with other restaurant reviews (not only the one shown here). "
      ],
      "metadata": {
        "id": "ETsqS0DFMNt0"
      }
    },
    {
      "cell_type": "markdown",
      "source": [
        "---\n",
        "\n",
        "# Bibliography\n",
        "\n",
        "[1]  http://python-apuntes.blogspot.com/2018/11/identificar-genero-de-un-nombre.html\n",
        "\n",
        "[2]  https://github.com/sentiment-analysis-spanish/sentiment-spanish\n",
        "\n",
        "[3]  https://github.com/aylliote/senti-py\n",
        "\n",
        "[4]  https://github.com/pysentimiento/pysentimiento\n",
        "\n",
        "[5]  https://docs.scipy.org/doc/scipy/reference/generated/scipy.stats.ks_2samp.html\n",
        "\n",
        "[6]  https://en.wikipedia.org/wiki/Kolmogorov%E2%80%93Smirnov_test\n",
        "\n",
        "[7]   https://www.geeksforgeeks.org/how-to-conduct-a-two-sample-t-test-in-python/"
      ],
      "metadata": {
        "id": "W8NS-4SnPf8s"
      }
    }
  ]
}